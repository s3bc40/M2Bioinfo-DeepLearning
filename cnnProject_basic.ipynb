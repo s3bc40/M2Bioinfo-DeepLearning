{
 "cells": [
  {
   "cell_type": "code",
   "execution_count": 1,
   "metadata": {},
   "outputs": [],
   "source": [
    "# Import for CNN project\n",
    "from __future__ import print_function, division\n",
    "\n",
    "import sys \n",
    "import os\n",
    "import time\n",
    "import copy\n",
    "from torch.utils.data import Dataset, DataLoader\n",
    "import torchvision\n",
    "from torchvision import datasets,transforms,datasets,models\n",
    "import torch\n",
    "import torch.nn as nn\n",
    "import torch.nn.functional as F\n",
    "import torch.optim as optim\n",
    "from torch.optim import lr_scheduler\n",
    "import matplotlib.pyplot as plt\n",
    "import numpy as np"
   ]
  },
  {
   "cell_type": "code",
   "execution_count": 2,
   "metadata": {},
   "outputs": [],
   "source": [
    "#rename the folder to replace space by _\n",
    "def read_folder(path):\n",
    "    file=os.listdir(path)\n",
    "    for name in file:\n",
    "        if name.find(' ') != -1:\n",
    "            os.rename(path+'/'+ name, path +'/'+name.replace(' ','_'))"
   ]
  },
  {
   "cell_type": "code",
   "execution_count": 3,
   "metadata": {},
   "outputs": [],
   "source": [
    "path_train = 'fruits-360/Training'\n",
    "path_test = 'fruits-360/Test'\n",
    "\n",
    "#Call the function to rename sub-folders\n",
    "read_folder(path_train)\n",
    "read_folder(path_test)"
   ]
  },
  {
   "cell_type": "code",
   "execution_count": 4,
   "metadata": {},
   "outputs": [],
   "source": [
    "# create datasets\n",
    "def initDatasets(batch_size):\n",
    "    train_transform = transforms.Compose([transforms.ToTensor()])\n",
    "    test_transform = transforms.Compose([transforms.ToTensor()])\n",
    "        \n",
    "    train_dataset = datasets.ImageFolder(path_train, transform= train_transform)\n",
    "    train_loader = DataLoader(train_dataset, batch_size= batch_size , shuffle=True)\n",
    "\n",
    "    test_dataset = datasets.ImageFolder(path_test, transform= test_transform)\n",
    "    test_loader = DataLoader(test_dataset, batch_size= batch_size , shuffle=True)\n",
    "    \n",
    "    return train_dataset,train_loader,test_dataset,test_loader"
   ]
  },
  {
   "cell_type": "code",
   "execution_count": 5,
   "metadata": {},
   "outputs": [],
   "source": [
    "# Init default dataset (batch_size = 8)\n",
    "train_dataset,train_loader,test_dataset,test_loader = initDatasets(8)"
   ]
  },
  {
   "cell_type": "code",
   "execution_count": 6,
   "metadata": {},
   "outputs": [
    {
     "name": "stdout",
     "output_type": "stream",
     "text": [
      "cpu\n",
      "ConvNet(\n",
      "  (conv1): Conv2d(3, 6, kernel_size=(5, 5), stride=(1, 1))\n",
      "  (conv2): Conv2d(6, 16, kernel_size=(5, 5), stride=(1, 1))\n",
      "  (fc1): Linear(in_features=7744, out_features=120, bias=True)\n",
      "  (fc2): Linear(in_features=120, out_features=84, bias=True)\n",
      "  (fc3): Linear(in_features=84, out_features=83, bias=True)\n",
      ")\n"
     ]
    }
   ],
   "source": [
    "class ConvNet(nn.Module):\n",
    "    '''''\n",
    "    Define the layers in the network\n",
    "    '''\n",
    "    def __init__(self):\n",
    "        super(ConvNet, self).__init__()\n",
    "        # 3 input image channel, 6 output channels, 5x5 square convolution kernel\n",
    "        self.conv1 = nn.Conv2d(3, 6, 5)\n",
    "        \n",
    "        self.conv2 = nn.Conv2d(6, 16, 5)\n",
    "\n",
    "        # an affine operation: y = Wx + b\n",
    "        self.fc1 = nn.Linear(16 * 22 * 22, 120) # (size of input, size of output)\n",
    "        self.fc2 = nn.Linear(120, 84)\n",
    "        self.fc3 = nn.Linear(84, 83)\n",
    "    '''''\n",
    "    Implement the forward computation of the network\n",
    "    '''\n",
    "    def forward(self, x):\n",
    "        # Max pooling over a (2, 2) window\n",
    "        x = F.max_pool2d(F.relu(self.conv1(x)), (2, 2))\n",
    "        # If the size is a square you can only specify a single number\n",
    "        x = F.max_pool2d(F.relu(self.conv2(x)), 2)\n",
    "        x = x.view(-1, self.num_flat_features(x))\n",
    "        x = F.relu(self.fc1(x))\n",
    "        x = F.relu(self.fc2(x))\n",
    "        x = self.fc3(x)\n",
    "        return x\n",
    "\n",
    "    def num_flat_features(self, x):\n",
    "        size = x.size()[1:] # all dimensions except the batch dimension\n",
    "        num_features = 1\n",
    "        for s in size:\n",
    "            num_features *= s\n",
    "        return num_features\n",
    "\n",
    "#check GPU on machine\n",
    "device = torch.device('cuda:0' if torch.cuda.is_available() else 'cpu')\n",
    "print(device)\n",
    "\n",
    "convNet = ConvNet().to(device)\n",
    "print(convNet)"
   ]
  },
  {
   "cell_type": "code",
   "execution_count": 7,
   "metadata": {},
   "outputs": [],
   "source": [
    "# choose the loss function and update rule\n",
    "criterion = nn.CrossEntropyLoss()\n",
    "optimizer = optim.SGD(convNet.parameters(), lr=0.001)"
   ]
  },
  {
   "cell_type": "code",
   "execution_count": 8,
   "metadata": {},
   "outputs": [
    {
     "name": "stdout",
     "output_type": "stream",
     "text": [
      "Begin training\n",
      "Epoch 0/4\n",
      "----------\n",
      "[1,  2000] loss : 4.378\n",
      "[1,  4000] loss : 3.118\n",
      "Epoch 1/4\n",
      "----------\n",
      "[2,  2000] loss : 1.415\n",
      "[2,  4000] loss : 1.034\n",
      "Epoch 2/4\n",
      "----------\n",
      "[3,  2000] loss : 0.664\n",
      "[3,  4000] loss : 0.545\n",
      "Epoch 3/4\n",
      "----------\n",
      "[4,  2000] loss : 0.384\n",
      "[4,  4000] loss : 0.312\n",
      "Epoch 4/4\n",
      "----------\n",
      "[5,  2000] loss : 0.232\n",
      "[5,  4000] loss : 0.213\n",
      "Training complete in 14m 30s\n"
     ]
    }
   ],
   "source": [
    "def train(epochs=5):\n",
    "    since = time.time()\n",
    "    print(\"Begin training\")\n",
    "    for epoch in range(epochs):\n",
    "        print('Epoch {}/{}'.format(epoch, epochs - 1))\n",
    "        print('-' * 10)\n",
    "        running_loss = 0.0\n",
    "        for i, data in enumerate(train_loader,0):\n",
    "            #get the input\n",
    "            inputs, labels = data\n",
    "            inputs, labels = inputs.to(device), labels.to(device)\n",
    "            \n",
    "            #clear the parameter gradients\n",
    "            optimizer.zero_grad()\n",
    "            \n",
    "            #train \n",
    "            outputs = convNet(inputs)\n",
    "            loss = criterion(outputs,labels)\n",
    "            loss.backward()\n",
    "            optimizer.step()\n",
    "            \n",
    "            running_loss += loss.item()\n",
    "            if i%2000 == 1999:\n",
    "                print('[%d, %5d] loss : %.3f' %(epoch + 1, i + 1, running_loss / 2000))\n",
    "                running_loss = 0.0\n",
    "    time_elapsed = time.time() - since\n",
    "    print('Training complete in {:.0f}m {:.0f}s'.format(time_elapsed // 60, time_elapsed % 60))\n",
    "train()"
   ]
  },
  {
   "cell_type": "code",
   "execution_count": 9,
   "metadata": {},
   "outputs": [
    {
     "name": "stdout",
     "output_type": "stream",
     "text": [
      "tensor([73, 70, 76, 24, 56, 41,  5,  6])\n"
     ]
    },
    {
     "data": {
      "image/png": "[encoded data removed]",
      "text/plain": [
       "<Figure size 432x288 with 1 Axes>"
      ]
     },
     "metadata": {
      "needs_background": "light"
     },
     "output_type": "display_data"
    }
   ],
   "source": [
    "def imshow(img):\n",
    "    img = img/2 + 0.5\n",
    "    npimg = img.numpy()\n",
    "    plt.imshow(np.transpose(npimg,(1,2,0)))\n",
    "\n",
    "# show images\n",
    "images,labels = train_loader.dataset[0]\n",
    "imshow(torchvision.utils.make_grid(images))\n",
    "\n",
    "# Test \n",
    "testiter = iter(test_loader)\n",
    "images, labels = testiter.next()\n",
    "print(labels)"
   ]
  },
  {
   "cell_type": "code",
   "execution_count": 10,
   "metadata": {},
   "outputs": [
    {
     "name": "stdout",
     "output_type": "stream",
     "text": [
      "tensor([73, 70, 76, 24, 13, 41,  7,  7])\n"
     ]
    }
   ],
   "source": [
    "outputs = convNet(images)\n",
    "_,predicted = torch.max(outputs,1)\n",
    "print(predicted)"
   ]
  },
  {
   "cell_type": "code",
   "execution_count": 11,
   "metadata": {},
   "outputs": [
    {
     "name": "stdout",
     "output_type": "stream",
     "text": [
      "Accuracy of the network on the 10000 test images : 77 % \n"
     ]
    }
   ],
   "source": [
    "correct = 0\n",
    "total = 0\n",
    "with torch.no_grad():\n",
    "    for data in test_loader:\n",
    "        images,labels = data\n",
    "        outputs = convNet(images)\n",
    "        _,predicted = torch.max(outputs.data,1)\n",
    "        total += labels.size(0)\n",
    "        correct += (predicted == labels).sum().item()\n",
    "\n",
    "print(\"Accuracy of the network on the 10000 test images : %d %% \" %(100 * correct/total))"
   ]
  },
  {
   "cell_type": "code",
   "execution_count": 12,
   "metadata": {},
   "outputs": [
    {
     "name": "stdout",
     "output_type": "stream",
     "text": [
      "Accuracy of the network on the training images : 95 % \n"
     ]
    }
   ],
   "source": [
    "# test overfitting \n",
    "correct = 0\n",
    "total = 0\n",
    "with torch.no_grad():\n",
    "    for data in train_loader:\n",
    "        images,labels = data\n",
    "        outputs = convNet(images)\n",
    "        _,predicted = torch.max(outputs.data,1)\n",
    "        total += labels.size(0)\n",
    "        correct += (predicted == labels).sum().item()\n",
    "\n",
    "print(\"Accuracy of the network on the training images : %d %% \" %(100 * correct/total))"
   ]
  },
  {
   "cell_type": "markdown",
   "metadata": {},
   "source": [
    "# Overfitting on training datasets"
   ]
  }
 ],
 "metadata": {
  "kernelspec": {
   "display_name": "Python 3",
   "language": "python",
   "name": "python3"
  },
  "language_info": {
   "codemirror_mode": {
    "name": "ipython",
    "version": 3
   },
   "file_extension": ".py",
   "mimetype": "text/x-python",
   "name": "python",
   "nbconvert_exporter": "python",
   "pygments_lexer": "ipython3",
   "version": "3.6.7"
  }
 },
 "nbformat": 4,
 "nbformat_minor": 2
}
